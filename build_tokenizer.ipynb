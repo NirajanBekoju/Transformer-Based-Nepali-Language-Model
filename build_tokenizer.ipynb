{
 "cells": [
  {
   "cell_type": "code",
   "execution_count": 1,
   "id": "49e32bf8",
   "metadata": {},
   "outputs": [],
   "source": [
    "from tokenizers import Tokenizer\n",
    "from tokenizers.models import WordLevel\n",
    "from tokenizers.trainers import WordLevelTrainer\n",
    "from tokenizers.pre_tokenizers import Whitespace\n",
    "from pathlib import Path"
   ]
  },
  {
   "cell_type": "code",
   "execution_count": 2,
   "id": "335c33f2",
   "metadata": {},
   "outputs": [],
   "source": [
    "def get_sentence(dataset):\n",
    "    for sample in dataset:\n",
    "        yield sample"
   ]
  },
  {
   "cell_type": "code",
   "execution_count": 27,
   "id": "4d40ca90",
   "metadata": {},
   "outputs": [],
   "source": [
    "def get_or_build_tokenizer(dataset):\n",
    "    tokenizer_path = Path(\"tokenizer.json\")\n",
    "    if not Path.exists(tokenizer_path):\n",
    "        tokenizer = Tokenizer(WordLevel(unk_token='<unk>'))\n",
    "        tokenizer.pre_tokenizer = Whitespace()\n",
    "        trainer = WordLevelTrainer(special_tokens=['<unk>'], min_frequency=1)\n",
    "        tokenizer.train_from_iterator(get_sentence(dataset), trainer=trainer)\n",
    "        tokenizer.save(str(tokenizer_path))\n",
    "        print(\"Word Tokenizer Created and Saved\")\n",
    "    else:\n",
    "        print(f\"Loading tokenizer {str(tokenizer_path)}\")\n",
    "        tokenizer = Tokenizer.from_file(str(tokenizer_path))\n",
    "    return tokenizer"
   ]
  },
  {
   "cell_type": "code",
   "execution_count": 28,
   "id": "5ee8f079",
   "metadata": {},
   "outputs": [
    {
     "name": "stdout",
     "output_type": "stream",
     "text": [
      "प्रत्येक व्यक्तिलाई शिक्षाको अधिकार छ । कमसेकम प्रारम्भिक र आधारभूत शिक्षा निःशुल्क हुनेछ । प्रारम्भिक शिक्षा अनिवार्य हुनेछ । प्रविधिक र व्यवसायिक शिक्षा सबै सुलभ हुनेछ र उच्च शिक्षामा योग्यताको आधारमा सबैको समान पहुँच हुनेछ ।\n",
      "शिक्षा मानव व्यक्तित्वको पूर्ण विकास र मानवअधिकार तथा मौलिक स्वतन्त्रताको सम्मानको सुद्दढिकरणतर्फनिर्देशित हुनेछ । यसले सबै राष्ट्र, जाति र धार्मिक समूहहरुबीच समझदारी, सहिष्णुता र मित्रताको प्रवर्द्धन गर्नेछ र संयुक्त राष्ट्र संघको शान्ति कायम गर्ने प्रयत्नहरुलाई अघि बढाउने छ ।\n"
     ]
    }
   ],
   "source": [
    "dataset = [\"प्रत्येक व्यक्तिलाई शिक्षाको अधिकार छ । कमसेकम प्रारम्भिक र आधारभूत शिक्षा निःशुल्क हुनेछ । प्रारम्भिक शिक्षा अनिवार्य हुनेछ । प्रविधिक र व्यवसायिक शिक्षा सबै सुलभ हुनेछ र उच्च शिक्षामा योग्यताको आधारमा सबैको समान पहुँच हुनेछ ।\",\n",
    "\"शिक्षा मानव व्यक्तित्वको पूर्ण विकास र मानवअधिकार तथा मौलिक स्वतन्त्रताको सम्मानको सुद्दढिकरणतर्फनिर्देशित हुनेछ । यसले सबै राष्ट्र, जाति र धार्मिक समूहहरुबीच समझदारी, सहिष्णुता र मित्रताको प्रवर्द्धन गर्नेछ र संयुक्त राष्ट्र संघको शान्ति कायम गर्ने प्रयत्नहरुलाई अघि बढाउने छ ।\"]\n",
    "print(dataset[0])\n",
    "print(dataset[1])"
   ]
  },
  {
   "cell_type": "code",
   "execution_count": 29,
   "id": "b807255e",
   "metadata": {},
   "outputs": [
    {
     "name": "stdout",
     "output_type": "stream",
     "text": [
      "Word Tokenizer Created and Saved\n"
     ]
    }
   ],
   "source": [
    "tokenizer = get_or_build_tokenizer(dataset)"
   ]
  },
  {
   "cell_type": "code",
   "execution_count": 34,
   "id": "812fefc6",
   "metadata": {},
   "outputs": [
    {
     "data": {
      "text/plain": [
       "[('गर्ने', 18), ('धार्मिक', 22)]"
      ]
     },
     "execution_count": 34,
     "metadata": {},
     "output_type": "execute_result"
    }
   ],
   "source": [
    "list(tokenizer.get_vocab().items())[:2]"
   ]
  },
  {
   "cell_type": "code",
   "execution_count": 35,
   "id": "dad4ca44",
   "metadata": {},
   "outputs": [
    {
     "data": {
      "text/plain": [
       "55"
      ]
     },
     "execution_count": 35,
     "metadata": {},
     "output_type": "execute_result"
    }
   ],
   "source": [
    "tokenizer.get_vocab_size()"
   ]
  },
  {
   "cell_type": "code",
   "execution_count": 37,
   "id": "ec7deaf0",
   "metadata": {},
   "outputs": [],
   "source": [
    "from tokenizers import Tokenizer, trainers, models, pre_tokenizers, decoders\n",
    "from pathlib import Path\n",
    "\n",
    "def get_or_build_bpe_tokenizer(dataset):\n",
    "    tokenizer_path = Path(\"byte_level_tokenizer.json\")\n",
    "    \n",
    "    if not Path.exists(tokenizer_path):\n",
    "        tokenizer = Tokenizer(models.BPE())\n",
    "        tokenizer.pre_tokenizer = pre_tokenizers.ByteLevel()\n",
    "        trainer = trainers.BpeTrainer(special_tokens=[\"<unk>\"], min_frequency=1)\n",
    "        tokenizer.train_from_iterator(get_sentence(dataset), trainer=trainer)\n",
    "        tokenizer.save(str(tokenizer_path))\n",
    "        print(\"Byte-Level Tokenizer Created and Saved\")\n",
    "    else:\n",
    "        print(f\"Loading tokenizer {str(tokenizer_path)}\")\n",
    "        tokenizer = Tokenizer.from_file(str(tokenizer_path))\n",
    "\n",
    "    return tokenizer"
   ]
  },
  {
   "cell_type": "code",
   "execution_count": 38,
   "id": "855bc4f2",
   "metadata": {},
   "outputs": [
    {
     "name": "stdout",
     "output_type": "stream",
     "text": [
      "\n",
      "\n",
      "\n",
      "Byte-Level Tokenizer Created and Saved\n"
     ]
    }
   ],
   "source": [
    "tokenizer = get_or_build_bpe_tokenizer(dataset)"
   ]
  },
  {
   "cell_type": "code",
   "execution_count": 40,
   "id": "3972ecb6",
   "metadata": {},
   "outputs": [
    {
     "data": {
      "text/plain": [
       "[('à¤Ĥ', 93), ('à¤¨à¤µà¤ħà¤§', 161)]"
      ]
     },
     "execution_count": 40,
     "metadata": {},
     "output_type": "execute_result"
    }
   ],
   "source": [
    "list(tokenizer.get_vocab().items())[:2]"
   ]
  },
  {
   "cell_type": "code",
   "execution_count": 41,
   "id": "4bbc1235",
   "metadata": {},
   "outputs": [
    {
     "data": {
      "text/plain": [
       "165"
      ]
     },
     "execution_count": 41,
     "metadata": {},
     "output_type": "execute_result"
    }
   ],
   "source": [
    "tokenizer.get_vocab_size()"
   ]
  },
  {
   "cell_type": "code",
   "execution_count": null,
   "id": "4ffed245",
   "metadata": {},
   "outputs": [],
   "source": []
  }
 ],
 "metadata": {
  "kernelspec": {
   "display_name": "cslr",
   "language": "python",
   "name": "cslr"
  },
  "language_info": {
   "codemirror_mode": {
    "name": "ipython",
    "version": 3
   },
   "file_extension": ".py",
   "mimetype": "text/x-python",
   "name": "python",
   "nbconvert_exporter": "python",
   "pygments_lexer": "ipython3",
   "version": "3.8.18"
  }
 },
 "nbformat": 4,
 "nbformat_minor": 5
}
