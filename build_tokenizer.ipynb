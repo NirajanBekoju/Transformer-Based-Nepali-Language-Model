{
 "cells": [
  {
   "cell_type": "code",
   "execution_count": 1,
   "id": "dd114b68",
   "metadata": {},
   "outputs": [],
   "source": [
    "import regex as re\n",
    "import os\n",
    "import pickle\n",
    "\n",
    "import torch\n",
    "from torchtext.vocab import build_vocab_from_iterator\n",
    "from torchtext.data.utils import get_tokenizer"
   ]
  },
  {
   "cell_type": "code",
   "execution_count": 2,
   "id": "496f3d22-5740-4006-9e0e-e950e3b906b7",
   "metadata": {},
   "outputs": [],
   "source": [
    "min_freq_to_include_in_vocab = 50"
   ]
  },
  {
   "cell_type": "code",
   "execution_count": 3,
   "id": "49e32bf8",
   "metadata": {},
   "outputs": [],
   "source": [
    "def preProcessText(text):\n",
    "    # put space in beteen the | -> devanagari danda to make it a separate word.\n",
    "    text = re.sub(r'\\s*[\\u0964]\\s*', r'\\u0020\\u0964\\u0020', text)\n",
    "    # put space around the question mark ?  to make it a separate word\n",
    "    text = re.sub(r'\\s*[\\u003f]\\s*', r'\\u0020\\u003f\\u0020', text)\n",
    "    # put space in between comma(,)\n",
    "    text = re.sub(r'\\s*[\\u002c]\\s*', r'\\u0020\\u002c\\u0020', text)\n",
    "    # remove space around the new line character\n",
    "    text = re.sub(r'\\s*\\n\\s*','\\n', text)\n",
    "    # replace any non-devangari string with a blank\n",
    "    text = re.sub(r'[^\\u0900-\\u097F,?\\s+]','', text) \n",
    "    # add space in between the devanagari numbers and replace number by <num> token\n",
    "    text = re.sub(r'\\s*[\\u0966-\\u0976]+\\s*', '\\u0020<num>\\u0020', text)\n",
    "    return text"
   ]
  },
  {
   "cell_type": "code",
   "execution_count": 4,
   "id": "5a809a01-8537-47fb-883c-c3c2f8ef90a5",
   "metadata": {},
   "outputs": [
    {
     "name": "stdout",
     "output_type": "stream",
     "text": [
      "Reading file  : data/preprocessed_ne_dedup.txt\n"
     ]
    }
   ],
   "source": [
    "file_path = 'data/preprocessed_ne_dedup.txt'\n",
    "if not os.path.exists(file_path):\n",
    "    with open('data/ne_dedup.txt', 'r', encoding='utf-8') as f:\n",
    "        text = f.read()\n",
    "        print(\"Preprocessing file\")\n",
    "        text = preProcessText(text)\n",
    "    with open('data/preprocessed_ne_dedup.txt', 'w', encoding='utf-8') as f:\n",
    "        f.write(text)\n",
    "else:\n",
    "    print(f\"Reading file  : {file_path}\")\n",
    "    with open(file_path, 'r', encoding='utf-8') as f:\n",
    "        text = f.read()"
   ]
  },
  {
   "cell_type": "code",
   "execution_count": 5,
   "id": "b70481ef-bb04-4434-9783-d92e30edd999",
   "metadata": {},
   "outputs": [
    {
     "name": "stdout",
     "output_type": "stream",
     "text": [
      "319566\n"
     ]
    }
   ],
   "source": [
    "paragraph_list = text.split('\\n')\n",
    "print(len(paragraph_list))"
   ]
  },
  {
   "cell_type": "code",
   "execution_count": 6,
   "id": "5260351c-c5a5-4a30-8de8-08146f6f2616",
   "metadata": {},
   "outputs": [
    {
     "name": "stdout",
     "output_type": "stream",
     "text": [
      "300000 19566\n"
     ]
    }
   ],
   "source": [
    "train_split = 300_000\n",
    "\n",
    "train_iter = paragraph_list[:train_split]\n",
    "test_iter = paragraph_list[train_split:]\n",
    "print(len(train_iter), len(test_iter))"
   ]
  },
  {
   "cell_type": "code",
   "execution_count": 7,
   "id": "c4145d7e-8abb-43ed-bc1f-9342efeca203",
   "metadata": {},
   "outputs": [
    {
     "data": {
      "text/plain": [
       "['बर्दिबास नगरपालिकाको तेस्रो नगर परिषदबाट पारित आव <num> । <num> को संशोधित र <num> । <num> को प्रस्तावित नीति , कार्यक्रम तथा बजेट',\n",
       " 'अार्थिक वर्ष <num> काे नदिजन्य पदार्थकाे उत्खनन् गरी बिक्रि वितरण तथा अान्तरिक निकासी गर्ने कार्यकाे बाेलपत्र सम्बन्धी सुचना',\n",
       " 'सक्षार सप्तरी अभियानमा सप्तरीबासी सम्पूर्ण सरोकारवालाहरुको सहयोग र सहभागिताकाो लागि अनुराोध छ ।  सामुदायिक अध्ययन केन्द्रहरूको नविकरण सम्बन्धमा । ']"
      ]
     },
     "execution_count": 7,
     "metadata": {},
     "output_type": "execute_result"
    }
   ],
   "source": [
    "train_iter[:3]"
   ]
  },
  {
   "cell_type": "code",
   "execution_count": 8,
   "id": "d201b974-a9a9-4475-ac23-0a32b0849947",
   "metadata": {},
   "outputs": [],
   "source": [
    "tokenizer = get_tokenizer(None)\n",
    "vocab = build_vocab_from_iterator(\n",
    "    map(tokenizer, train_iter), min_freq=min_freq_to_include_in_vocab, specials=['<unk>']\n",
    "        )\n",
    "vocab.set_default_index(vocab['<unk>'])"
   ]
  },
  {
   "cell_type": "code",
   "execution_count": 9,
   "id": "3c9008bb-a020-43a1-b0bb-ec54af9679f5",
   "metadata": {},
   "outputs": [
    {
     "data": {
      "text/plain": [
       "60507"
      ]
     },
     "execution_count": 9,
     "metadata": {},
     "output_type": "execute_result"
    }
   ],
   "source": [
    "len(vocab)"
   ]
  },
  {
   "cell_type": "code",
   "execution_count": 14,
   "id": "017e4c7c-eab5-45cb-83ab-ac4523a7c693",
   "metadata": {},
   "outputs": [],
   "source": [
    "tokenizer_dir = \"tokenizer\"\n",
    "if not os.path.exists(tokenizer_dir):\n",
    "    os.makedirs(tokenizer_dir)\n",
    "tokenizer_path = tokenizer_dir + \"/tokenizer.pth\"\n",
    "vocab_path = tokenizer_dir + \"/vocab.pkl\"\n",
    "\n",
    "## saving the tokenizer and vocab\n",
    "torch.save(tokenizer, tokenizer_path)\n",
    "with open(vocab_path, 'wb') as file:\n",
    "    pickle.dump(vocab, file)"
   ]
  },
  {
   "cell_type": "code",
   "execution_count": 11,
   "id": "e98454ee-563d-48da-8ffc-1e56b8c63b86",
   "metadata": {},
   "outputs": [],
   "source": [
    "## loading the tokenizer and vocab\n",
    "loaded_tokenizer = torch.load(tokenizer_path)\n",
    "with open(vocab_path, 'rb') as file:\n",
    "    loaded_vocab = pickle.load(file)"
   ]
  },
  {
   "cell_type": "code",
   "execution_count": 12,
   "id": "82d2ed15-8c49-43a7-8a74-ad1074c55a92",
   "metadata": {},
   "outputs": [
    {
     "name": "stdout",
     "output_type": "stream",
     "text": [
      "<class 'dict'>\n",
      "हेर्नकै: 60506\n",
      "हेफर: 60505\n",
      "हुलहुज्जत: 60504\n",
      "हीत: 60501\n",
      "हिलटेक: 60500\n"
     ]
    }
   ],
   "source": [
    "print(type(vocab.vocab.get_stoi()))\n",
    "for key, value in list(vocab.vocab.get_stoi().items())[:5]:\n",
    "    print(f'{key}: {value}')"
   ]
  },
  {
   "cell_type": "markdown",
   "id": "3a811d41-66fc-44e2-a3b5-c35ed0e35c2d",
   "metadata": {},
   "source": [
    "## Sample Test for the tokenization process"
   ]
  },
  {
   "cell_type": "code",
   "execution_count": 15,
   "id": "7bf2b46f-ef88-4361-b772-cdb8833a2b79",
   "metadata": {},
   "outputs": [
    {
     "name": "stdout",
     "output_type": "stream",
     "text": [
      "। ? , ऀ ॿ †\n"
     ]
    }
   ],
   "source": [
    "print(\"\\u0964\", \"\\u003f\", \"\\u002c\", \"\\u0900\", \"\\u097F\", \"\\u2020\")"
   ]
  },
  {
   "cell_type": "code",
   "execution_count": 17,
   "id": "4ffed245",
   "metadata": {},
   "outputs": [
    {
     "name": "stdout",
     "output_type": "stream",
     "text": [
      "आधिकारिक निर्णयक ?  निर्णयक <num> , <num> क \n"
     ]
    }
   ],
   "source": [
    "text = \"आधिकारिकabcd निर्णयक? cbd निर्णयक२७, २७२७२७२७क |\"\n",
    "text = preProcessText(text)\n",
    "print(text)"
   ]
  },
  {
   "cell_type": "code",
   "execution_count": 18,
   "id": "7040da32",
   "metadata": {},
   "outputs": [
    {
     "data": {
      "text/plain": [
       "['आधिकारिक निर्णयक ?  निर्णयक <num> , <num> क ']"
      ]
     },
     "execution_count": 18,
     "metadata": {},
     "output_type": "execute_result"
    }
   ],
   "source": [
    "train_iter = text.split(\"\\n\")\n",
    "train_iter"
   ]
  },
  {
   "cell_type": "code",
   "execution_count": 19,
   "id": "36ca683c",
   "metadata": {},
   "outputs": [],
   "source": [
    "tokenizer = get_tokenizer(None)\n",
    "vocab = build_vocab_from_iterator(\n",
    "    map(tokenizer, train_iter), specials=['<unk>']\n",
    "        )\n",
    "vocab.set_default_index(vocab['<unk>'])"
   ]
  },
  {
   "cell_type": "code",
   "execution_count": 20,
   "id": "003198dc",
   "metadata": {},
   "outputs": [
    {
     "name": "stdout",
     "output_type": "stream",
     "text": [
      "7 ['<unk>', '<num>', 'निर्णयक', ',', '?', 'आधिकारिक', 'क']\n"
     ]
    }
   ],
   "source": [
    "print(len(vocab.get_itos()), vocab.get_itos())"
   ]
  },
  {
   "cell_type": "code",
   "execution_count": 21,
   "id": "d7e8c7fb",
   "metadata": {},
   "outputs": [
    {
     "data": {
      "text/plain": [
       "{'क': 6, 'आधिकारिक': 5, '?': 4, ',': 3, 'निर्णयक': 2, '<num>': 1, '<unk>': 0}"
      ]
     },
     "execution_count": 21,
     "metadata": {},
     "output_type": "execute_result"
    }
   ],
   "source": [
    "vocab.get_stoi()"
   ]
  },
  {
   "cell_type": "code",
   "execution_count": 22,
   "id": "b597d663",
   "metadata": {},
   "outputs": [
    {
     "data": {
      "text/plain": [
       "['आधिकारिक', 'निर्णयक', '?', 'निर्णयक', 'आधिकारिक', 'निर्णयक', '?', 'निर्णयक']"
      ]
     },
     "execution_count": 22,
     "metadata": {},
     "output_type": "execute_result"
    }
   ],
   "source": [
    "tokenizer(\"आधिकारिक निर्णयक ?  निर्णयक \\n आधिकारिक निर्णयक ?  निर्णयक \")"
   ]
  },
  {
   "cell_type": "code",
   "execution_count": 23,
   "id": "49aa0b8d",
   "metadata": {},
   "outputs": [
    {
     "data": {
      "text/plain": [
       "7"
      ]
     },
     "execution_count": 23,
     "metadata": {},
     "output_type": "execute_result"
    }
   ],
   "source": [
    "len(vocab)"
   ]
  },
  {
   "cell_type": "code",
   "execution_count": 24,
   "id": "f339e3e7",
   "metadata": {},
   "outputs": [
    {
     "data": {
      "text/plain": [
       "Vocab()"
      ]
     },
     "execution_count": 24,
     "metadata": {},
     "output_type": "execute_result"
    }
   ],
   "source": [
    "vocab"
   ]
  },
  {
   "cell_type": "code",
   "execution_count": 32,
   "id": "6848f4c4-000a-4880-a648-5c080b5a0bb1",
   "metadata": {},
   "outputs": [],
   "source": [
    "## save tokenizer and vocab\n",
    "torch.save(tokenizer, 'tokenizer.pth')\n",
    "loaded_tokenizer = torch.load('tokenizer.pth')"
   ]
  },
  {
   "cell_type": "code",
   "execution_count": 33,
   "id": "29829916-9215-495e-89bb-9f13ae76e522",
   "metadata": {},
   "outputs": [],
   "source": [
    "with open('vocab.pkl', 'wb') as file:\n",
    "    pickle.dump(vocab, file)"
   ]
  },
  {
   "cell_type": "code",
   "execution_count": 34,
   "id": "a960767b-b3bf-4bce-bde8-e171efd5130a",
   "metadata": {},
   "outputs": [],
   "source": [
    "with open('vocab.pkl', 'rb') as file:\n",
    "    loaded_vocab = pickle.load(file)"
   ]
  },
  {
   "cell_type": "code",
   "execution_count": 35,
   "id": "3d4d87f9-609b-4e01-8cb9-bc5ea513f544",
   "metadata": {},
   "outputs": [
    {
     "data": {
      "text/plain": [
       "{'क': 6, 'आधिकारिक': 5, '?': 4, ',': 3, 'निर्णयक': 2, '<num>': 1, '<unk>': 0}"
      ]
     },
     "execution_count": 35,
     "metadata": {},
     "output_type": "execute_result"
    }
   ],
   "source": [
    "loaded_vocab.get_stoi()"
   ]
  },
  {
   "cell_type": "code",
   "execution_count": 36,
   "id": "2e6d1f33-ad95-46b4-9e53-d084fc832d6c",
   "metadata": {},
   "outputs": [
    {
     "data": {
      "text/plain": [
       "{'क': 6, 'आधिकारिक': 5, '?': 4, ',': 3, 'निर्णयक': 2, '<num>': 1, '<unk>': 0}"
      ]
     },
     "execution_count": 36,
     "metadata": {},
     "output_type": "execute_result"
    }
   ],
   "source": [
    "vocab.get_stoi()"
   ]
  },
  {
   "cell_type": "code",
   "execution_count": null,
   "id": "ca6e6bd4-f5ff-4e8b-848a-f54ef8c48f1f",
   "metadata": {},
   "outputs": [],
   "source": []
  }
 ],
 "metadata": {
  "kernelspec": {
   "display_name": "cslr",
   "language": "python",
   "name": "cslr"
  },
  "language_info": {
   "codemirror_mode": {
    "name": "ipython",
    "version": 3
   },
   "file_extension": ".py",
   "mimetype": "text/x-python",
   "name": "python",
   "nbconvert_exporter": "python",
   "pygments_lexer": "ipython3",
   "version": "3.8.18"
  }
 },
 "nbformat": 4,
 "nbformat_minor": 5
}
