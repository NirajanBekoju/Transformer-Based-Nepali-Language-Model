{
 "cells": [
  {
   "cell_type": "code",
   "execution_count": 1,
   "id": "546feb4f",
   "metadata": {},
   "outputs": [],
   "source": [
    "import regex as re\n",
    "from torchtext.vocab import build_vocab_from_iterator\n",
    "from torchtext.data.utils import get_tokenizer"
   ]
  },
  {
   "cell_type": "code",
   "execution_count": 2,
   "id": "49e32bf8",
   "metadata": {},
   "outputs": [],
   "source": [
    "def preProcessText(text):\n",
    "    # put space in beteen the | -> devanagari danda to make it a separate word.\n",
    "    text = re.sub(r'\\s*[\\u0964]\\s*', r'\\u0020\\u0964\\u0020', text)\n",
    "    # put space around the question mark ?  to make it a separate word\n",
    "    text = re.sub(r'\\s*[\\u003f]\\s*', r'\\u0020\\u003f\\u0020', text)\n",
    "    # put space in between comma(,)\n",
    "    text = re.sub(r'\\s*[\\u002c]\\s*', r'\\u0020\\u002c\\u0020', text)\n",
    "    # remove space around the new line character\n",
    "    text = re.sub(r'\\s*\\n\\s*','\\n', text)\n",
    "    # replace any non-devangari string with a blank\n",
    "    text = re.sub(r'[^\\u0900-\\u097F,?\\s+]','', text) \n",
    "    # add space in between the devanagari numbers\n",
    "    text = re.sub(r'\\s*[\\u0966-\\u0976]+\\s*', '\\u0020<num>\\u0020', text)\n",
    "    return text"
   ]
  },
  {
   "cell_type": "code",
   "execution_count": 4,
   "id": "4ffed245",
   "metadata": {},
   "outputs": [],
   "source": [
    "text = \"आधिकारिकabcd निर्णयक? cbd निर्णयक२७, २७२७२७२७ |\"\n",
    "text = preProcessText(text)"
   ]
  },
  {
   "cell_type": "code",
   "execution_count": 5,
   "id": "126c750c",
   "metadata": {},
   "outputs": [
    {
     "data": {
      "text/plain": [
       "['आधिकारिक निर्णयक ?  निर्णयक <num> , <num> ']"
      ]
     },
     "execution_count": 5,
     "metadata": {},
     "output_type": "execute_result"
    }
   ],
   "source": [
    "train_iter = text.split(\"\\n\")\n",
    "train_iter"
   ]
  },
  {
   "cell_type": "code",
   "execution_count": 8,
   "id": "2eab6886",
   "metadata": {},
   "outputs": [
    {
     "ename": "RecursionError",
     "evalue": "maximum recursion depth exceeded",
     "output_type": "error",
     "traceback": [
      "\u001b[0;31m---------------------------------------------------------------------------\u001b[0m",
      "\u001b[0;31mRecursionError\u001b[0m                            Traceback (most recent call last)",
      "Cell \u001b[0;32mIn[8], line 1\u001b[0m\n\u001b[0;32m----> 1\u001b[0m tokenizer \u001b[38;5;241m=\u001b[39m \u001b[43mget_tokenizer\u001b[49m\u001b[43m(\u001b[49m\u001b[38;5;28;43;01mNone\u001b[39;49;00m\u001b[43m)\u001b[49m\n\u001b[1;32m      2\u001b[0m vocab \u001b[38;5;241m=\u001b[39m build_vocab_from_iterator(\n\u001b[1;32m      3\u001b[0m     \u001b[38;5;28mmap\u001b[39m(tokenizer, train_iter), specials\u001b[38;5;241m=\u001b[39m[\u001b[38;5;124m'\u001b[39m\u001b[38;5;124m<unk>\u001b[39m\u001b[38;5;124m'\u001b[39m]\n\u001b[1;32m      4\u001b[0m         )\n\u001b[1;32m      5\u001b[0m vocab\u001b[38;5;241m.\u001b[39mset_default_index(vocab[\u001b[38;5;124m'\u001b[39m\u001b[38;5;124m<unk>\u001b[39m\u001b[38;5;124m'\u001b[39m])\n",
      "Cell \u001b[0;32mIn[3], line 2\u001b[0m, in \u001b[0;36mget_tokenizer\u001b[0;34m(dataset)\u001b[0m\n\u001b[1;32m      1\u001b[0m \u001b[38;5;28;01mdef\u001b[39;00m \u001b[38;5;21mget_tokenizer\u001b[39m(dataset):\n\u001b[0;32m----> 2\u001b[0m     tokenizer \u001b[38;5;241m=\u001b[39m \u001b[43mget_tokenizer\u001b[49m\u001b[43m(\u001b[49m\u001b[38;5;28;43;01mNone\u001b[39;49;00m\u001b[43m)\u001b[49m\n\u001b[1;32m      3\u001b[0m     vocab \u001b[38;5;241m=\u001b[39m build_vocab_from_iterator(\n\u001b[1;32m      4\u001b[0m         \u001b[38;5;28mmap\u001b[39m(tokenizer, dataset), specials\u001b[38;5;241m=\u001b[39m[\u001b[38;5;124m'\u001b[39m\u001b[38;5;124m<unk>\u001b[39m\u001b[38;5;124m'\u001b[39m]\n\u001b[1;32m      5\u001b[0m             )\n\u001b[1;32m      6\u001b[0m     vocab\u001b[38;5;241m.\u001b[39mset_default_index(vocab[\u001b[38;5;124m'\u001b[39m\u001b[38;5;124m<unk>\u001b[39m\u001b[38;5;124m'\u001b[39m])\n",
      "Cell \u001b[0;32mIn[3], line 2\u001b[0m, in \u001b[0;36mget_tokenizer\u001b[0;34m(dataset)\u001b[0m\n\u001b[1;32m      1\u001b[0m \u001b[38;5;28;01mdef\u001b[39;00m \u001b[38;5;21mget_tokenizer\u001b[39m(dataset):\n\u001b[0;32m----> 2\u001b[0m     tokenizer \u001b[38;5;241m=\u001b[39m \u001b[43mget_tokenizer\u001b[49m\u001b[43m(\u001b[49m\u001b[38;5;28;43;01mNone\u001b[39;49;00m\u001b[43m)\u001b[49m\n\u001b[1;32m      3\u001b[0m     vocab \u001b[38;5;241m=\u001b[39m build_vocab_from_iterator(\n\u001b[1;32m      4\u001b[0m         \u001b[38;5;28mmap\u001b[39m(tokenizer, dataset), specials\u001b[38;5;241m=\u001b[39m[\u001b[38;5;124m'\u001b[39m\u001b[38;5;124m<unk>\u001b[39m\u001b[38;5;124m'\u001b[39m]\n\u001b[1;32m      5\u001b[0m             )\n\u001b[1;32m      6\u001b[0m     vocab\u001b[38;5;241m.\u001b[39mset_default_index(vocab[\u001b[38;5;124m'\u001b[39m\u001b[38;5;124m<unk>\u001b[39m\u001b[38;5;124m'\u001b[39m])\n",
      "    \u001b[0;31m[... skipping similar frames: get_tokenizer at line 2 (2970 times)]\u001b[0m\n",
      "Cell \u001b[0;32mIn[3], line 2\u001b[0m, in \u001b[0;36mget_tokenizer\u001b[0;34m(dataset)\u001b[0m\n\u001b[1;32m      1\u001b[0m \u001b[38;5;28;01mdef\u001b[39;00m \u001b[38;5;21mget_tokenizer\u001b[39m(dataset):\n\u001b[0;32m----> 2\u001b[0m     tokenizer \u001b[38;5;241m=\u001b[39m \u001b[43mget_tokenizer\u001b[49m\u001b[43m(\u001b[49m\u001b[38;5;28;43;01mNone\u001b[39;49;00m\u001b[43m)\u001b[49m\n\u001b[1;32m      3\u001b[0m     vocab \u001b[38;5;241m=\u001b[39m build_vocab_from_iterator(\n\u001b[1;32m      4\u001b[0m         \u001b[38;5;28mmap\u001b[39m(tokenizer, dataset), specials\u001b[38;5;241m=\u001b[39m[\u001b[38;5;124m'\u001b[39m\u001b[38;5;124m<unk>\u001b[39m\u001b[38;5;124m'\u001b[39m]\n\u001b[1;32m      5\u001b[0m             )\n\u001b[1;32m      6\u001b[0m     vocab\u001b[38;5;241m.\u001b[39mset_default_index(vocab[\u001b[38;5;124m'\u001b[39m\u001b[38;5;124m<unk>\u001b[39m\u001b[38;5;124m'\u001b[39m])\n",
      "\u001b[0;31mRecursionError\u001b[0m: maximum recursion depth exceeded"
     ]
    }
   ],
   "source": [
    "tokenizer = get_tokenizer(None)\n",
    "vocab = build_vocab_from_iterator(\n",
    "    map(tokenizer, train_iter), specials=['<unk>']\n",
    "        )\n",
    "vocab.set_default_index(vocab['<unk>'])"
   ]
  },
  {
   "cell_type": "code",
   "execution_count": 59,
   "id": "37b3603c",
   "metadata": {},
   "outputs": [
    {
     "name": "stdout",
     "output_type": "stream",
     "text": [
      "6 ['<unk>', '<num>', 'निर्णयक', ',', '?', 'आधिकारिक']\n"
     ]
    }
   ],
   "source": [
    "print(len(vocab.get_itos()), vocab.get_itos())"
   ]
  },
  {
   "cell_type": "code",
   "execution_count": 60,
   "id": "cabab66c",
   "metadata": {},
   "outputs": [
    {
     "data": {
      "text/plain": [
       "{'आधिकारिक': 5, '?': 4, ',': 3, 'निर्णयक': 2, '<num>': 1, '<unk>': 0}"
      ]
     },
     "execution_count": 60,
     "metadata": {},
     "output_type": "execute_result"
    }
   ],
   "source": [
    "vocab.get_stoi()"
   ]
  },
  {
   "cell_type": "code",
   "execution_count": 61,
   "id": "73b7f29f",
   "metadata": {},
   "outputs": [
    {
     "data": {
      "text/plain": [
       "['आधिकारिक', 'निर्णयक', '?', 'निर्णयक', 'आधिकारिक', 'निर्णयक', '?', 'निर्णयक']"
      ]
     },
     "execution_count": 61,
     "metadata": {},
     "output_type": "execute_result"
    }
   ],
   "source": [
    "tokenizer(\"आधिकारिक निर्णयक ?  निर्णयक \\n आधिकारिक निर्णयक ?  निर्णयक \")"
   ]
  },
  {
   "cell_type": "code",
   "execution_count": null,
   "id": "3320b4b5",
   "metadata": {},
   "outputs": [],
   "source": []
  },
  {
   "cell_type": "code",
   "execution_count": null,
   "id": "2ede6c95",
   "metadata": {},
   "outputs": [],
   "source": []
  }
 ],
 "metadata": {
  "kernelspec": {
   "display_name": "cslr",
   "language": "python",
   "name": "cslr"
  },
  "language_info": {
   "codemirror_mode": {
    "name": "ipython",
    "version": 3
   },
   "file_extension": ".py",
   "mimetype": "text/x-python",
   "name": "python",
   "nbconvert_exporter": "python",
   "pygments_lexer": "ipython3",
   "version": "3.8.18"
  }
 },
 "nbformat": 4,
 "nbformat_minor": 5
}
